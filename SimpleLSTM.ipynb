{
 "cells": [
  {
   "cell_type": "code",
   "execution_count": 1,
   "metadata": {},
   "outputs": [
    {
     "name": "stderr",
     "output_type": "stream",
     "text": [
      "Using TensorFlow backend.\n"
     ]
    }
   ],
   "source": [
    "# Load Libraries - Make sure to run this cell!\n",
    "import pandas as pd\n",
    "import numpy as np\n",
    "import re, os\n",
    "from string import printable\n",
    "from sklearn import model_selection\n",
    "\n",
    "#import gensim\n",
    "import tensorflow as tf\n",
    "from keras.models import Sequential, Model, model_from_json, load_model\n",
    "from keras import regularizers\n",
    "from keras.layers.core import Dense, Dropout, Activation, Lambda, Flatten\n",
    "from keras.layers import Input, ELU, LSTM, Embedding, Convolution2D, MaxPooling2D, \\\n",
    "BatchNormalization, Convolution1D, MaxPooling1D, concatenate\n",
    "from keras.preprocessing import sequence\n",
    "from keras.optimizers import SGD, Adam, RMSprop\n",
    "from keras.utils import np_utils\n",
    "from keras import backend as K\n",
    "\n",
    "from pathlib import Path\n",
    "import json\n",
    "\n",
    "import warnings\n",
    "warnings.filterwarnings(\"ignore\")"
   ]
  },
  {
   "cell_type": "code",
   "execution_count": 2,
   "metadata": {},
   "outputs": [
    {
     "data": {
      "text/html": [
       "<div>\n",
       "<style scoped>\n",
       "    .dataframe tbody tr th:only-of-type {\n",
       "        vertical-align: middle;\n",
       "    }\n",
       "\n",
       "    .dataframe tbody tr th {\n",
       "        vertical-align: top;\n",
       "    }\n",
       "\n",
       "    .dataframe thead th {\n",
       "        text-align: right;\n",
       "    }\n",
       "</style>\n",
       "<table border=\"1\" class=\"dataframe\">\n",
       "  <thead>\n",
       "    <tr style=\"text-align: right;\">\n",
       "      <th></th>\n",
       "      <th>url</th>\n",
       "      <th>isMalicious</th>\n",
       "    </tr>\n",
       "  </thead>\n",
       "  <tbody>\n",
       "    <tr>\n",
       "      <th>225199</th>\n",
       "      <td>emilystrange.com/beware/radio/Rasputina/interv...</td>\n",
       "      <td>0</td>\n",
       "    </tr>\n",
       "    <tr>\n",
       "      <th>372793</th>\n",
       "      <td>yellowpages.com/baldwin-park-ca/kaiser-permane...</td>\n",
       "      <td>0</td>\n",
       "    </tr>\n",
       "    <tr>\n",
       "      <th>330233</th>\n",
       "      <td>runmichigan.com/results/full.php/2009/07/12/mo...</td>\n",
       "      <td>0</td>\n",
       "    </tr>\n",
       "    <tr>\n",
       "      <th>38497</th>\n",
       "      <td>dircobuilders.co.za/wp-admin/dropbox/dpbx/</td>\n",
       "      <td>1</td>\n",
       "    </tr>\n",
       "    <tr>\n",
       "      <th>383244</th>\n",
       "      <td>zillow.com/homedetails/1417-Griffin-Rd-Albany-...</td>\n",
       "      <td>0</td>\n",
       "    </tr>\n",
       "    <tr>\n",
       "      <th>417396</th>\n",
       "      <td>ignitehq.biz/gory/Panel/</td>\n",
       "      <td>1</td>\n",
       "    </tr>\n",
       "    <tr>\n",
       "      <th>125984</th>\n",
       "      <td>nlxmotherboard.info/</td>\n",
       "      <td>0</td>\n",
       "    </tr>\n",
       "    <tr>\n",
       "      <th>224670</th>\n",
       "      <td>electronista.com/articles/11/10/27/jim.tobin.l...</td>\n",
       "      <td>0</td>\n",
       "    </tr>\n",
       "    <tr>\n",
       "      <th>348115</th>\n",
       "      <td>thedeadballera.com/CardGallery.html</td>\n",
       "      <td>0</td>\n",
       "    </tr>\n",
       "    <tr>\n",
       "      <th>264565</th>\n",
       "      <td>imdb.com/title/tt0636810/</td>\n",
       "      <td>0</td>\n",
       "    </tr>\n",
       "    <tr>\n",
       "      <th>381323</th>\n",
       "      <td>youtube.com/watch?v=np9cDZ_ZgGQ</td>\n",
       "      <td>0</td>\n",
       "    </tr>\n",
       "    <tr>\n",
       "      <th>373995</th>\n",
       "      <td>yidio.com/show/one-tree-hill</td>\n",
       "      <td>0</td>\n",
       "    </tr>\n",
       "    <tr>\n",
       "      <th>162309</th>\n",
       "      <td>wienerwaldhof-rieger.com/</td>\n",
       "      <td>0</td>\n",
       "    </tr>\n",
       "    <tr>\n",
       "      <th>334793</th>\n",
       "      <td>shrinemontcfo.org/</td>\n",
       "      <td>0</td>\n",
       "    </tr>\n",
       "    <tr>\n",
       "      <th>189826</th>\n",
       "      <td>auscrosoccer.com.au/newsarchive.htm</td>\n",
       "      <td>0</td>\n",
       "    </tr>\n",
       "    <tr>\n",
       "      <th>182520</th>\n",
       "      <td>americanhistory.si.edu/collections/costume/obj...</td>\n",
       "      <td>0</td>\n",
       "    </tr>\n",
       "    <tr>\n",
       "      <th>312030</th>\n",
       "      <td>nytimes.com/2010/12/03/sports/tennis/03forget....</td>\n",
       "      <td>0</td>\n",
       "    </tr>\n",
       "    <tr>\n",
       "      <th>105342</th>\n",
       "      <td>islamic-financial-plancentre-malaysia.blogspot...</td>\n",
       "      <td>0</td>\n",
       "    </tr>\n",
       "    <tr>\n",
       "      <th>361574</th>\n",
       "      <td>utmsi.utexas.edu/staff/edmonds.htm</td>\n",
       "      <td>0</td>\n",
       "    </tr>\n",
       "    <tr>\n",
       "      <th>106001</th>\n",
       "      <td>itunes.apple.com/us/artist/the-light-crust-dou...</td>\n",
       "      <td>0</td>\n",
       "    </tr>\n",
       "    <tr>\n",
       "      <th>107627</th>\n",
       "      <td>josephmassey.com/</td>\n",
       "      <td>0</td>\n",
       "    </tr>\n",
       "    <tr>\n",
       "      <th>347870</th>\n",
       "      <td>thecanadianencyclopedia.com/index.cfm?PgNm=TCE...</td>\n",
       "      <td>0</td>\n",
       "    </tr>\n",
       "    <tr>\n",
       "      <th>263576</th>\n",
       "      <td>imdb.com/name/nm1619476/</td>\n",
       "      <td>0</td>\n",
       "    </tr>\n",
       "    <tr>\n",
       "      <th>306099</th>\n",
       "      <td>navy.gc.ca/ottawa/6/6-s_eng.asp</td>\n",
       "      <td>0</td>\n",
       "    </tr>\n",
       "    <tr>\n",
       "      <th>139702</th>\n",
       "      <td>rocou.blogspot.com/</td>\n",
       "      <td>0</td>\n",
       "    </tr>\n",
       "  </tbody>\n",
       "</table>\n",
       "</div>"
      ],
      "text/plain": [
       "                                                      url  isMalicious\n",
       "225199  emilystrange.com/beware/radio/Rasputina/interv...            0\n",
       "372793  yellowpages.com/baldwin-park-ca/kaiser-permane...            0\n",
       "330233  runmichigan.com/results/full.php/2009/07/12/mo...            0\n",
       "38497          dircobuilders.co.za/wp-admin/dropbox/dpbx/            1\n",
       "383244  zillow.com/homedetails/1417-Griffin-Rd-Albany-...            0\n",
       "417396                           ignitehq.biz/gory/Panel/            1\n",
       "125984                               nlxmotherboard.info/            0\n",
       "224670  electronista.com/articles/11/10/27/jim.tobin.l...            0\n",
       "348115                thedeadballera.com/CardGallery.html            0\n",
       "264565                          imdb.com/title/tt0636810/            0\n",
       "381323                    youtube.com/watch?v=np9cDZ_ZgGQ            0\n",
       "373995                       yidio.com/show/one-tree-hill            0\n",
       "162309                          wienerwaldhof-rieger.com/            0\n",
       "334793                                 shrinemontcfo.org/            0\n",
       "189826                auscrosoccer.com.au/newsarchive.htm            0\n",
       "182520  americanhistory.si.edu/collections/costume/obj...            0\n",
       "312030  nytimes.com/2010/12/03/sports/tennis/03forget....            0\n",
       "105342  islamic-financial-plancentre-malaysia.blogspot...            0\n",
       "361574                 utmsi.utexas.edu/staff/edmonds.htm            0\n",
       "106001  itunes.apple.com/us/artist/the-light-crust-dou...            0\n",
       "107627                                  josephmassey.com/            0\n",
       "347870  thecanadianencyclopedia.com/index.cfm?PgNm=TCE...            0\n",
       "263576                           imdb.com/name/nm1619476/            0\n",
       "306099                    navy.gc.ca/ottawa/6/6-s_eng.asp            0\n",
       "139702                                rocou.blogspot.com/            0"
      ]
     },
     "execution_count": 2,
     "metadata": {},
     "output_type": "execute_result"
    }
   ],
   "source": [
    "## Load data URL\n",
    "\n",
    "DATA_HOME = 'C:/Users/arnav/'\n",
    "df = pd.read_csv(DATA_HOME + 'urldataDNN.csv')\n",
    "df.sample(n=25).head(25)"
   ]
  },
  {
   "cell_type": "code",
   "execution_count": 3,
   "metadata": {},
   "outputs": [
    {
     "name": "stdout",
     "output_type": "stream",
     "text": [
      "Matrix dimensions of X:  (420464, 75) Vector dimension of target:  (420464,)\n"
     ]
    }
   ],
   "source": [
    "# Initial Data Preparation URL\n",
    "\n",
    "# Step 1: Convert raw URL string in list of lists where characters that are contained in \"printable\" are stored encoded as integer \n",
    "url_int_tokens = [[printable.index(x) + 1 for x in url if x in printable] for url in df.url]\n",
    "\n",
    "# Step 2: Cut URL string at max_len or pad with zeros if shorter\n",
    "max_len=75\n",
    "X = sequence.pad_sequences(url_int_tokens, maxlen=max_len)\n",
    " \n",
    "# Step 3: Extract labels form df to numpy array\n",
    "target = np.array(df.isMalicious)\n",
    "\n",
    "print('Matrix dimensions of X: ', X.shape, 'Vector dimension of target: ', target.shape)"
   ]
  },
  {
   "cell_type": "code",
   "execution_count": 4,
   "metadata": {},
   "outputs": [],
   "source": [
    "# Simple Cross-Validation: Split the data set into training and test data\n",
    "X_train, X_test, target_train, target_test = model_selection.train_test_split(X, target, test_size=0.25, random_state=33)"
   ]
  },
  {
   "cell_type": "code",
   "execution_count": 8,
   "metadata": {},
   "outputs": [],
   "source": [
    "# GENERAL get layer dimensions for any model!\n",
    "def print_layers_dims(model):\n",
    "    l_layers = model.layers\n",
    "    # Note None is ALWAYS batch_size\n",
    "    for i in range(len(l_layers)):\n",
    "        print(l_layers[i])\n",
    "        print('Input Shape: ', l_layers[i].input_shape, 'Output Shape: ', l_layers[i].output_shape)\n",
    "\n",
    "# GENERAL save model to disk function!\n",
    "def save_model(fileModelJSON,fileWeights):\n",
    "    #print(\"Saving model to disk: \",fileModelJSON,\"and\",fileWeights)\n",
    "    #have h5py installed\n",
    "    if Path(fileModelJSON).is_file():\n",
    "        os.remove(fileModelJSON)\n",
    "    json_string = model.to_json()\n",
    "    with open(fileModelJSON,'w' ) as f:\n",
    "        json.dump(json_string, f)\n",
    "    if Path(fileWeights).is_file():\n",
    "        os.remove(fileWeights)\n",
    "    model.save_weights(fileWeights)\n",
    "    \n",
    "\n",
    "# GENERAL load model from disk function!\n",
    "def load_model(fileModelJSON,fileWeights):\n",
    "    #print(\"Saving model to disk: \",fileModelJSON,\"and\",fileWeights)\n",
    "    with open(fileModelJSON, 'r') as f:\n",
    "         model_json = json.load(f)\n",
    "         model = model_from_json(model_json)\n",
    "    \n",
    "    model.load_weights(fileWeights)\n",
    "    return model"
   ]
  },
  {
   "cell_type": "code",
   "execution_count": 9,
   "metadata": {},
   "outputs": [],
   "source": [
    "## Deep Learning model Definition --- A --- (Simple LSTM)\n",
    "\n",
    "\n",
    "def simple_lstm(max_len=75, emb_dim=32, max_vocab_len=100, lstm_output_size=32, W_reg=regularizers.l2(1e-4)):\n",
    "    # Input\n",
    "    main_input = Input(shape=(max_len,), dtype='int32', name='main_input')\n",
    "    # Embedding layer\n",
    "    emb = Embedding(input_dim=max_vocab_len, output_dim=emb_dim, input_length=max_len,\n",
    "                dropout=0.2, W_regularizer=W_reg)(main_input) \n",
    "\n",
    "    # LSTM layer\n",
    "    lstm = LSTM(lstm_output_size)(emb)\n",
    "    lstm = Dropout(0.5)(lstm)\n",
    "    \n",
    "    # Output layer (last fully connected layer)\n",
    "    output = Dense(1, activation='sigmoid', name='output')(lstm)\n",
    "\n",
    "    # Compile model and define optimizer\n",
    "    model = Model(input=[main_input], output=[output])\n",
    "    adam = Adam(lr=1e-4, beta_1=0.9, beta_2=0.999, epsilon=1e-08, decay=0.0)\n",
    "    model.compile(optimizer=adam, loss='binary_crossentropy', metrics=['accuracy'])\n",
    "    return model"
   ]
  },
  {
   "cell_type": "code",
   "execution_count": 10,
   "metadata": {},
   "outputs": [
    {
     "name": "stdout",
     "output_type": "stream",
     "text": [
      "Epoch 1/5\n",
      "315348/315348 [==============================] - 268s 849us/step - loss: 0.3276 - acc: 0.8681\n",
      "Epoch 2/5\n",
      "315348/315348 [==============================] - 252s 800us/step - loss: 0.2655 - acc: 0.8975\n",
      "Epoch 3/5\n",
      "315348/315348 [==============================] - 252s 799us/step - loss: 0.2303 - acc: 0.9146\n",
      "Epoch 4/5\n",
      "315348/315348 [==============================] - 250s 794us/step - loss: 0.2060 - acc: 0.9253\n",
      "Epoch 5/5\n",
      "315348/315348 [==============================] - 252s 800us/step - loss: 0.1925 - acc: 0.9311\n",
      "105116/105116 [==============================] - 17s 158us/step\n",
      "\n",
      "Final Cross-Validation Accuracy 0.9337303550363408 \n",
      "\n",
      "<keras.engine.input_layer.InputLayer object at 0x00000275DFD9AEF0>\n",
      "Input Shape:  (None, 75) Output Shape:  (None, 75)\n",
      "<keras.layers.embeddings.Embedding object at 0x00000275DFD9AB00>\n",
      "Input Shape:  (None, 75) Output Shape:  (None, 75, 32)\n",
      "<keras.layers.recurrent.LSTM object at 0x00000275DFD9AFD0>\n",
      "Input Shape:  (None, 75, 32) Output Shape:  (None, 32)\n",
      "<keras.layers.core.Dropout object at 0x00000275BDAEB2B0>\n",
      "Input Shape:  (None, 32) Output Shape:  (None, 32)\n",
      "<keras.layers.core.Dense object at 0x00000275BDAEBBE0>\n",
      "Input Shape:  (None, 32) Output Shape:  (None, 1)\n"
     ]
    }
   ],
   "source": [
    "# Fit model and Cross-Validation, ARCHITECTURE 1 SIMPLE LSTM\n",
    "epochs = 5\n",
    "batch_size = 32\n",
    "\n",
    "model = simple_lstm()\n",
    "model.fit(X_train, target_train, epochs=epochs, batch_size=batch_size)\n",
    "loss, accuracy = model.evaluate(X_test, target_test, verbose=1)\n",
    "\n",
    "print('\\nFinal Cross-Validation Accuracy', accuracy, '\\n')\n",
    "print_layers_dims(model)"
   ]
  },
  {
   "cell_type": "code",
   "execution_count": 11,
   "metadata": {},
   "outputs": [],
   "source": [
    "model_name = \"deeplearning_LSTM\"\n",
    "save_model(DATA_HOME + model_name + \".json\", DATA_HOME + model_name + \".h5\")\n",
    "model = load_model(DATA_HOME + model_name + \".json\", DATA_HOME + model_name + \".h5\")\n",
    "#print_layers_dims(model)"
   ]
  },
  {
   "cell_type": "code",
   "execution_count": 12,
   "metadata": {},
   "outputs": [
    {
     "data": {
      "text/plain": [
       "(100, 32)"
      ]
     },
     "execution_count": 12,
     "metadata": {},
     "output_type": "execute_result"
    }
   ],
   "source": [
    "# get for example word2vec embedding weight matix\n",
    "l_layers = model.layers\n",
    "weights = l_layers[1].get_weights()\n",
    "weights[0].shape"
   ]
  },
  {
   "cell_type": "code",
   "execution_count": 13,
   "metadata": {},
   "outputs": [],
   "source": [
    "test_url_mal = \"naureen.net/etisalat.ae/index2.php\"\n",
    "test_url_benign = \"sixt.com/php/reservation?language=en_US\"\n",
    "\n",
    "url = test_url_benign"
   ]
  },
  {
   "cell_type": "code",
   "execution_count": 14,
   "metadata": {},
   "outputs": [],
   "source": [
    "# Step 1: Convert raw URL string in list of lists where characters that are contained in \"printable\" are stored encoded as integer \n",
    "url_int_tokens = [[printable.index(x) + 1 for x in url if x in printable]]\n",
    "\n",
    "# Step 2: Cut URL string at max_len or pad with zeros if shorter\n",
    "max_len=75\n",
    "X = sequence.pad_sequences(url_int_tokens, maxlen=max_len)"
   ]
  },
  {
   "cell_type": "code",
   "execution_count": 15,
   "metadata": {},
   "outputs": [
    {
     "name": "stdout",
     "output_type": "stream",
     "text": [
      "Test URL: sixt.com/php/reservation?language=en_US is benign\n"
     ]
    }
   ],
   "source": [
    "target_proba = model.predict(X, batch_size=1)\n",
    "def print_result(proba):\n",
    "    if proba > 0.5:\n",
    "        return \"malicious\"\n",
    "    else:\n",
    "        return \"benign\"\n",
    "print(\"Test URL:\", url, \"is\", print_result(target_proba[0]))"
   ]
  },
  {
   "cell_type": "code",
   "execution_count": null,
   "metadata": {},
   "outputs": [],
   "source": []
  }
 ],
 "metadata": {
  "kernelspec": {
   "display_name": "Python 3",
   "language": "python",
   "name": "python3"
  },
  "language_info": {
   "codemirror_mode": {
    "name": "ipython",
    "version": 3
   },
   "file_extension": ".py",
   "mimetype": "text/x-python",
   "name": "python",
   "nbconvert_exporter": "python",
   "pygments_lexer": "ipython3",
   "version": "3.7.2"
  }
 },
 "nbformat": 4,
 "nbformat_minor": 2
}
